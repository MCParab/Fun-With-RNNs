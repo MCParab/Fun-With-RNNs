{
 "cells": [
  {
   "cell_type": "code",
   "execution_count": 1,
   "metadata": {
    "collapsed": true
   },
   "outputs": [],
   "source": [
    "import string "
   ]
  },
  {
   "cell_type": "code",
   "execution_count": 3,
   "metadata": {
    "collapsed": true
   },
   "outputs": [],
   "source": [
    "# load input into memory\n",
    "def load_input(filename):\n",
    "    file = open(filename, 'r')\n",
    "    text = file.read()\n",
    "    file.close()\n",
    "    return text"
   ]
  },
  {
   "cell_type": "code",
   "execution_count": 4,
   "metadata": {
    "collapsed": false
   },
   "outputs": [
    {
     "name": "stdout",
     "output_type": "stream",
     "text": [
      "\"\"\"Python part of the warnings subsystem.\"\"\"\n",
      "\n",
      "import sys\n",
      "\n",
      "__all__ = [\"warn\", \"warn_explicit\", \"showwarning\",\n",
      "           \"formatwarning\", \"filterwarnings\", \"simplefilter\",\n",
      "           \"resetwarnings\", \"\n"
     ]
    }
   ],
   "source": [
    "in_filename = 'input_small.txt'\n",
    "doc = load_input(in_filename)\n",
    "print(doc[:200])"
   ]
  },
  {
   "cell_type": "code",
   "execution_count": 6,
   "metadata": {
    "collapsed": false
   },
   "outputs": [
    {
     "name": "stdout",
     "output_type": "stream",
     "text": [
      "['\"\"\"python', 'part', 'of', 'the', 'warnings', 'subsystem.\"\"\"', 'import', 'sys', '__all__', '=', '[\"warn\",', '\"warn_explicit\",', '\"showwarning\",', '\"formatwarning\",', '\"filterwarnings\",', '\"simplefilter\",', '\"resetwarnings\",', '\"catch_warnings\"]', 'def', 'showwarning(message,', 'category,', 'filename,', 'lineno,', 'file=none,', 'line=none):', '\"\"\"hook', 'to', 'write', 'a', 'warning', 'to', 'a', 'file;', 'replace', 'if', 'you', 'like.\"\"\"', 'if', 'file', 'is', 'none:', 'file', '=', 'sys.stderr', 'if', 'file', 'is', 'none:', '#', 'sys.stderr', 'is', 'none', 'when', 'run', 'with', 'pythonw.exe', '-', 'warnings', 'get', 'lost', 'return', 'try:', 'file.write(formatwarning(message,', 'category,', 'filename,', 'lineno,', 'line))', 'except', 'oserror:', 'pass', '#', 'the', 'file', '(probably', 'stderr)', 'is', 'invalid', '-', 'this', 'warning', 'gets', 'lost.', 'def', 'formatwarning(message,', 'category,', 'filename,', 'lineno,', 'line=none):', '\"\"\"function', 'to', 'format', 'a', 'warning', 'the', 'standard', 'way.\"\"\"', 's', '=', '\"%s:%s:', '%s:', '%s\\\\n\"', '%', '(filename,', 'lineno,', 'category.__name__,', 'message)', 'if', 'line', 'is', 'none:', 'try:', 'import', 'linecache', 'line', '=', 'linecache.getline(filename,', 'lineno)', 'except', 'exception:', '#', 'when', 'a', 'warning', 'is', 'logged', 'during', 'python', 'shutdown,', 'linecache', '#', 'and', 'the', 'import', 'machinery', \"don't\", 'work', 'anymore', 'line', '=', 'none', 'if', 'line:', 'line', '=', 'line.strip()', 's', '+=', '\"', '%s\\\\n\"', '%', 'line', 'return', 's', 'def', 'filterwarnings(action,', 'message=\"\",', 'category=warning,', 'module=\"\",', 'lineno=0,', 'append=false):', '\"\"\"insert', 'an', 'entry', 'into', 'the', 'list', 'of', 'warnings', 'filters', '(at', 'the', 'front).', \"'action'\", '--', 'one', 'of', '\"error\",', '\"ignore\",', '\"always\",', '\"default\",', '\"module\",', 'or', '\"once\"', \"'message'\", '--', 'a', 'regex', 'that', 'the', 'warning', 'message', 'must', 'match', \"'category'\", '--', 'a', 'class', 'that', 'the', 'warning']\n",
      "Total tokens : 16149\n",
      "Unique tokens : 5156\n"
     ]
    }
   ],
   "source": [
    "# clean document \n",
    "tokens = doc.split()\n",
    "tokens = [word.lower() for word in tokens]\n",
    "print(tokens[:200])\n",
    "print('Total tokens : %d' % len(tokens))\n",
    "print('Unique tokens : %d' % len(set(tokens)))"
   ]
  },
  {
   "cell_type": "code",
   "execution_count": 9,
   "metadata": {
    "collapsed": false
   },
   "outputs": [
    {
     "name": "stdout",
     "output_type": "stream",
     "text": [
      "Total Sequences : 16098\n"
     ]
    }
   ],
   "source": [
    "# organize into sequences of tokens \n",
    "length = 50 + 1\n",
    "sequences = list()\n",
    "for i in range(length, len(tokens)):\n",
    "    # select sequence of tokens \n",
    "    seq = tokens[i-length:i]\n",
    "    line = ' '.join(seq)\n",
    "    sequences.append(line)\n",
    "print('Total Sequences : %d' % len(sequences))"
   ]
  },
  {
   "cell_type": "code",
   "execution_count": 12,
   "metadata": {
    "collapsed": false
   },
   "outputs": [],
   "source": [
    "# Save tokens to fiel, one dialog per line \n",
    "def save_doc(lines, filename):\n",
    "    data  = '\\n'.join(lines)\n",
    "    file = open(filename, 'w')\n",
    "    file.write(data)\n",
    "    file.close()"
   ]
  },
  {
   "cell_type": "code",
   "execution_count": 13,
   "metadata": {
    "collapsed": true
   },
   "outputs": [],
   "source": [
    "# save sequence file \n",
    "out_filename = 'python_sequence.txt'\n",
    "save_doc(sequences, out_filename)"
   ]
  },
  {
   "cell_type": "code",
   "execution_count": 14,
   "metadata": {
    "collapsed": true
   },
   "outputs": [],
   "source": [
    "# TRAINING A LANGUAGE MODEL \n",
    "doc = load_input(out_filename)\n",
    "lines = doc.split('\\n')\n"
   ]
  },
  {
   "cell_type": "code",
   "execution_count": 17,
   "metadata": {
    "collapsed": false
   },
   "outputs": [
    {
     "name": "stdout",
     "output_type": "stream",
     "text": [
      "['\"\"\"python part of the warnings subsystem.\"\"\" import sys __all__ = [\"warn\", \"warn_explicit\", \"showwarning\", \"formatwarning\", \"filterwarnings\", \"simplefilter\", \"resetwarnings\", \"catch_warnings\"] def showwarning(message, category, filename, lineno, file=none, line=none): \"\"\"hook to write a warning to a file; replace if you like.\"\"\" if file is none: file = sys.stderr if file is none: # sys.stderr is']\n"
     ]
    }
   ],
   "source": [
    "print(lines[:1])"
   ]
  },
  {
   "cell_type": "code",
   "execution_count": 20,
   "metadata": {
    "collapsed": false
   },
   "outputs": [],
   "source": [
    "from numpy import array\n",
    "from pickle import dump\n",
    "import keras\n",
    "import keras.utils\n",
    "from keras import utils as np_utils\n",
    "from keras.preprocessing.text import Tokenizer\n",
    "from keras.models import Sequential\n",
    "from keras.layers import Dense\n",
    "from keras.layers import LSTM\n",
    "from keras.layers import Embedding"
   ]
  },
  {
   "cell_type": "code",
   "execution_count": 21,
   "metadata": {
    "collapsed": true
   },
   "outputs": [],
   "source": [
    "# integer encode sequences of words\n",
    "tokenizer = Tokenizer()\n",
    "tokenizer.fit_on_texts(lines)\n",
    "sequences = tokenizer.texts_to_sequences(lines)"
   ]
  },
  {
   "cell_type": "code",
   "execution_count": 24,
   "metadata": {
    "collapsed": false
   },
   "outputs": [
    {
     "name": "stdout",
     "output_type": "stream",
     "text": [
      "2441\n"
     ]
    }
   ],
   "source": [
    "# vocab size \n",
    "vocab_size = len(tokenizer.word_index) + 1\n",
    "print(vocab_size)"
   ]
  },
  {
   "cell_type": "code",
   "execution_count": 25,
   "metadata": {
    "collapsed": false
   },
   "outputs": [
    {
     "ename": "IndexError",
     "evalue": "too many indices for array",
     "output_type": "error",
     "traceback": [
      "\u001b[0;31m---------------------------------------------------------------------------\u001b[0m",
      "\u001b[0;31mIndexError\u001b[0m                                Traceback (most recent call last)",
      "\u001b[0;32m<ipython-input-25-e89a4d7f9e54>\u001b[0m in \u001b[0;36m<module>\u001b[0;34m()\u001b[0m\n\u001b[1;32m      1\u001b[0m \u001b[0;31m# separate into input and output\u001b[0m\u001b[0;34m\u001b[0m\u001b[0;34m\u001b[0m\u001b[0m\n\u001b[1;32m      2\u001b[0m \u001b[0msequences\u001b[0m \u001b[0;34m=\u001b[0m \u001b[0marray\u001b[0m\u001b[0;34m(\u001b[0m\u001b[0msequences\u001b[0m\u001b[0;34m)\u001b[0m\u001b[0;34m\u001b[0m\u001b[0m\n\u001b[0;32m----> 3\u001b[0;31m \u001b[0mX\u001b[0m\u001b[0;34m,\u001b[0m \u001b[0my\u001b[0m \u001b[0;34m=\u001b[0m \u001b[0msequences\u001b[0m\u001b[0;34m[\u001b[0m\u001b[0;34m:\u001b[0m\u001b[0;34m,\u001b[0m \u001b[0;34m:\u001b[0m\u001b[0;34m-\u001b[0m\u001b[0;36m1\u001b[0m\u001b[0;34m]\u001b[0m\u001b[0;34m,\u001b[0m \u001b[0msequences\u001b[0m\u001b[0;34m[\u001b[0m\u001b[0;34m:\u001b[0m\u001b[0;34m,\u001b[0m \u001b[0;34m-\u001b[0m\u001b[0;36m1\u001b[0m\u001b[0;34m]\u001b[0m\u001b[0;34m\u001b[0m\u001b[0m\n\u001b[0m\u001b[1;32m      4\u001b[0m \u001b[0my\u001b[0m \u001b[0;34m=\u001b[0m \u001b[0mkeras\u001b[0m\u001b[0;34m.\u001b[0m\u001b[0mutil\u001b[0m\u001b[0;34m.\u001b[0m\u001b[0mto_categorical\u001b[0m\u001b[0;34m(\u001b[0m\u001b[0my\u001b[0m\u001b[0;34m,\u001b[0m \u001b[0mnum_classes\u001b[0m \u001b[0;34m=\u001b[0m \u001b[0mvocab_size\u001b[0m\u001b[0;34m)\u001b[0m\u001b[0;34m\u001b[0m\u001b[0m\n\u001b[1;32m      5\u001b[0m \u001b[0mseq_length\u001b[0m \u001b[0;34m=\u001b[0m \u001b[0mX\u001b[0m\u001b[0;34m.\u001b[0m\u001b[0mshape\u001b[0m\u001b[0;34m[\u001b[0m\u001b[0;36m1\u001b[0m\u001b[0;34m]\u001b[0m\u001b[0;34m\u001b[0m\u001b[0m\n",
      "\u001b[0;31mIndexError\u001b[0m: too many indices for array"
     ]
    }
   ],
   "source": [
    "# separate into input and output \n",
    "sequences = array(sequences)\n",
    "X, y = sequences[:, :-1], sequences[:, -1]\n",
    "y = keras.util.to_categorical(y, num_classes = vocab_size)\n",
    "seq_length = X.shape[1]"
   ]
  },
  {
   "cell_type": "code",
   "execution_count": null,
   "metadata": {
    "collapsed": true
   },
   "outputs": [],
   "source": []
  },
  {
   "cell_type": "code",
   "execution_count": null,
   "metadata": {
    "collapsed": true
   },
   "outputs": [],
   "source": []
  },
  {
   "cell_type": "code",
   "execution_count": null,
   "metadata": {
    "collapsed": true
   },
   "outputs": [],
   "source": []
  },
  {
   "cell_type": "code",
   "execution_count": null,
   "metadata": {
    "collapsed": true
   },
   "outputs": [],
   "source": []
  },
  {
   "cell_type": "code",
   "execution_count": null,
   "metadata": {
    "collapsed": true
   },
   "outputs": [],
   "source": []
  },
  {
   "cell_type": "code",
   "execution_count": null,
   "metadata": {
    "collapsed": true
   },
   "outputs": [],
   "source": []
  },
  {
   "cell_type": "code",
   "execution_count": null,
   "metadata": {
    "collapsed": true
   },
   "outputs": [],
   "source": []
  },
  {
   "cell_type": "code",
   "execution_count": null,
   "metadata": {
    "collapsed": true
   },
   "outputs": [],
   "source": []
  },
  {
   "cell_type": "code",
   "execution_count": null,
   "metadata": {
    "collapsed": true
   },
   "outputs": [],
   "source": []
  }
 ],
 "metadata": {
  "kernelspec": {
   "display_name": "Python [conda env:car-behavioral-cloning]",
   "language": "python",
   "name": "conda-env-car-behavioral-cloning-py"
  },
  "language_info": {
   "codemirror_mode": {
    "name": "ipython",
    "version": 3
   },
   "file_extension": ".py",
   "mimetype": "text/x-python",
   "name": "python",
   "nbconvert_exporter": "python",
   "pygments_lexer": "ipython3",
   "version": "3.5.2"
  }
 },
 "nbformat": 4,
 "nbformat_minor": 1
}
